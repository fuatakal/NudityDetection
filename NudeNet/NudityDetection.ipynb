{
 "cells": [
  {
   "cell_type": "markdown",
   "id": "2f6d0d91",
   "metadata": {},
   "source": [
    "## Nudity Detector using NudeNet\n",
    "\n",
    "NudeNet: lightweight Nudity detection\n",
    "\n",
    "Check out https://nudenet.notai.tech/ for in-browser demo (the detector is run client side, i.e: in your browser, images are not sent to a server)"
   ]
  },
  {
   "cell_type": "code",
   "execution_count": null,
   "id": "dfaafb48",
   "metadata": {},
   "outputs": [],
   "source": [
    "#!pip install --upgrade nudenet"
   ]
  },
  {
   "cell_type": "code",
   "execution_count": 1,
   "id": "f928dcee",
   "metadata": {},
   "outputs": [],
   "source": [
    "import time\n",
    "import gradio as gr"
   ]
  },
  {
   "cell_type": "code",
   "execution_count": 2,
   "id": "b308e76e",
   "metadata": {},
   "outputs": [],
   "source": [
    "from nudenet import NudeDetector"
   ]
  },
  {
   "cell_type": "code",
   "execution_count": 39,
   "id": "5834af1b",
   "metadata": {},
   "outputs": [],
   "source": [
    "all_labels = [\n",
    "    \"FEMALE_GENITALIA_COVERED\",\n",
    "    \"FACE_FEMALE\",\n",
    "    \"BUTTOCKS_EXPOSED\",\n",
    "    \"FEMALE_BREAST_EXPOSED\",\n",
    "    \"FEMALE_GENITALIA_EXPOSED\",\n",
    "    \"MALE_BREAST_EXPOSED\",\n",
    "    \"ANUS_EXPOSED\",\n",
    "    \"FEET_EXPOSED\",\n",
    "    \"BELLY_COVERED\",\n",
    "    \"FEET_COVERED\",\n",
    "    \"ARMPITS_COVERED\",\n",
    "    \"ARMPITS_EXPOSED\",\n",
    "    \"FACE_MALE\",\n",
    "    \"BELLY_EXPOSED\",\n",
    "    \"MALE_GENITALIA_EXPOSED\",\n",
    "    \"ANUS_COVERED\",\n",
    "    \"FEMALE_BREAST_COVERED\",\n",
    "    \"BUTTOCKS_COVERED\",\n",
    "]\n",
    "\n",
    "notSafeLabels = [\n",
    "    \"BUTTOCKS_EXPOSED\",\n",
    "    \"FEMALE_BREAST_EXPOSED\",\n",
    "    \"FEMALE_GENITALIA_EXPOSED\",\n",
    "    \"ANUS_EXPOSED\",\n",
    "    \"MALE_GENITALIA_EXPOSED\",\n",
    "]\n",
    "\n",
    "# I picked this value arbitrarily.\n",
    "# I guess, it may be smaller than 0.50\n",
    "safetyThreshold = 0.50\n",
    "\n",
    "# Directory where the jpeg images reside\n",
    "# It is used for batch processing\n",
    "IMAGE_DIRECTORY = \"images/\""
   ]
  },
  {
   "cell_type": "code",
   "execution_count": 33,
   "id": "d70a1fb2",
   "metadata": {},
   "outputs": [],
   "source": [
    "# This function returns true if the input image is considered Safe. Otherwise, false.\n",
    "# Safety is calculated based on the safetyThreshold.\n",
    "# An image is considered safe, if its prediction score is higher than the safetyThreshold.\n",
    "def isSafe(predictionList, safetyThreshold):\n",
    "    \n",
    "    safe = True\n",
    "    \n",
    "    for prediction in predictionList:\n",
    "\n",
    "        if prediction[\"class\"] in notSafeLabels:\n",
    "            if prediction[\"score\"] > safetyThreshold:\n",
    "                safe = False\n",
    "                break\n",
    "\n",
    "    return safe"
   ]
  },
  {
   "cell_type": "code",
   "execution_count": 48,
   "id": "55f1740f",
   "metadata": {},
   "outputs": [
    {
     "name": "stdout",
     "output_type": "stream",
     "text": [
      "images/nude-01.jpg  :  Contains nudity\n",
      "images/nude-03.jpg  :  Nudity detected\n",
      "images/nude-02.jpg  :  Nudity detected\n",
      "images/nude-05.jpg  :  Nudity detected\n",
      "images/nude-04.jpg  :  Nudity detected\n"
     ]
    }
   ],
   "source": [
    "# A simple function for batch processing of input images\n",
    "def batchNudeDetection():\n",
    "    import glob\n",
    "    images = glob.glob(IMAGE_DIRECTORY + '*.jpg')\n",
    "    for image in images:\n",
    "        nude_detector = NudeDetector()\n",
    "        predictionList = nude_detector.detect(image)\n",
    "        print(image, \" : \", \"Nudity detected\" if isSafe(predictionList, safetyThreshold) else \"Contains nudity\")\n",
    "\n",
    "\n",
    "batchNudeDetection()"
   ]
  },
  {
   "cell_type": "code",
   "execution_count": null,
   "id": "33ed584f",
   "metadata": {},
   "outputs": [],
   "source": []
  },
  {
   "cell_type": "code",
   "execution_count": 35,
   "id": "9588e7b8",
   "metadata": {},
   "outputs": [
    {
     "name": "stdout",
     "output_type": "stream",
     "text": [
      "Running on local URL:  http://127.0.0.1:7865\n",
      "\n",
      "To create a public link, set `share=True` in `launch()`.\n"
     ]
    },
    {
     "data": {
      "text/html": [
       "<div><iframe src=\"http://127.0.0.1:7865/\" width=\"100%\" height=\"500\" allow=\"autoplay; camera; microphone; clipboard-read; clipboard-write;\" frameborder=\"0\" allowfullscreen></iframe></div>"
      ],
      "text/plain": [
       "<IPython.core.display.HTML object>"
      ]
     },
     "metadata": {},
     "output_type": "display_data"
    },
    {
     "name": "stdout",
     "output_type": "stream",
     "text": [
      "--- 2.3176512718200684 seconds ---\n"
     ]
    }
   ],
   "source": [
    "# An interactive version of nudity detection.\n",
    "# Users can upload an image and check if the image contain nudity\n",
    "def detectNudity(inputImage):\n",
    "    predictionList = nude_detector.detect(inputImage)\n",
    "        \n",
    "    if isSafe(predictionList, safetyThreshold):\n",
    "        return \"No nudity\"\n",
    "    else:\n",
    "        return \"Nudity detected\"\n",
    "\n",
    "\n",
    "start_time = time.time()\n",
    "\n",
    "nude_detector = NudeDetector()\n",
    "\n",
    "demo = gr.Interface(fn=detectNudity,\n",
    "             inputs=[gr.Image(type=\"filepath\", label=\"inputImage\")],\n",
    "             outputs=gr.Label())\n",
    "             \n",
    "demo.launch(share=False)\n",
    "#demo.launch(share=True)\n",
    "\n",
    "\n",
    "print(\"--- %s seconds ---\" % (time.time() - start_time))"
   ]
  },
  {
   "cell_type": "code",
   "execution_count": null,
   "id": "3aca4b35",
   "metadata": {},
   "outputs": [],
   "source": []
  }
 ],
 "metadata": {
  "kernelspec": {
   "display_name": "Python 3",
   "language": "python",
   "name": "python3"
  },
  "language_info": {
   "codemirror_mode": {
    "name": "ipython",
    "version": 3
   },
   "file_extension": ".py",
   "mimetype": "text/x-python",
   "name": "python",
   "nbconvert_exporter": "python",
   "pygments_lexer": "ipython3",
   "version": "3.8.8"
  }
 },
 "nbformat": 4,
 "nbformat_minor": 5
}
